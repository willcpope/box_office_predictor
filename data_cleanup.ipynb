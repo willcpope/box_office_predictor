{
 "cells": [
  {
   "cell_type": "code",
   "execution_count": 1,
   "metadata": {},
   "outputs": [],
   "source": [
    "import pandas as pd\n",
    "import numpy as np\n",
    "from pprint import pprint"
   ]
  },
  {
   "cell_type": "code",
   "execution_count": 2,
   "metadata": {},
   "outputs": [
    {
     "output_type": "execute_result",
     "data": {
      "text/plain": "        IMDB ID                                           Title  \\\n0     tt1375666                                       Inception   \n1     tt1345836                           The Dark Knight Rises   \n2     tt0816692                                    Interstellar   \n3     tt1853728                                Django Unchained   \n4     tt0848228                                    The Avengers   \n...         ...                                             ...   \n1345  tt1316616                                There Be Dragons   \n1346  tt1566501  For Greater Glory: The True Story of Cristiada   \n1347  tt4939066          Battle for Incheon: Operation Chromite   \n1348  tt1496005                                        The Tree   \n1349  tt1672845                             Tonight You're Mine   \n\n               Director                 Actor  Year    Box Office     Rating  \\\n0     Christopher Nolan     Leonardo DiCaprio  2010  $292,568,851      PG-13   \n1     Christopher Nolan        Christian Bale  2012  $448,130,642      PG-13   \n2     Christopher Nolan         Ellen Burstyn  2014  $158,737,441      PG-13   \n3     Quentin Tarantino            Jamie Foxx  2012  $162,804,648          R   \n4           Joss Whedon     Robert Downey Jr.  2012  $623,279,547      PG-13   \n...                 ...                   ...   ...           ...        ...   \n1345       Roland Joffé           Charlie Cox  2011    $1,065,439      PG-13   \n1346        Dean Wright         Mauricio Kuri  2012    $5,669,081          R   \n1347        John H. Lee           Liam Neeson  2016      $904,216  Not Rated   \n1348  Julie Bertuccelli  Charlotte Gainsbourg  2010       $69,236  Not Rated   \n1349    David Mackenzie        Rebecca Benson  2011        $5,086          R   \n\n      IMDB Rating IMDB Votes  Metascore  \n0             8.8  1,953,512       74.0  \n1             8.4  1,454,342       78.0  \n2             8.6  1,413,039       74.0  \n3             8.4  1,282,957       81.0  \n4             8.0  1,225,316       69.0  \n...           ...        ...        ...  \n1345          5.8      4,453       33.0  \n1346          6.6      4,415       35.0  \n1347          6.2      4,305       50.0  \n1348          6.6      4,279       58.0  \n1349          6.7      4,223       41.0  \n\n[1350 rows x 10 columns]",
      "text/html": "<div>\n<style scoped>\n    .dataframe tbody tr th:only-of-type {\n        vertical-align: middle;\n    }\n\n    .dataframe tbody tr th {\n        vertical-align: top;\n    }\n\n    .dataframe thead th {\n        text-align: right;\n    }\n</style>\n<table border=\"1\" class=\"dataframe\">\n  <thead>\n    <tr style=\"text-align: right;\">\n      <th></th>\n      <th>IMDB ID</th>\n      <th>Title</th>\n      <th>Director</th>\n      <th>Actor</th>\n      <th>Year</th>\n      <th>Box Office</th>\n      <th>Rating</th>\n      <th>IMDB Rating</th>\n      <th>IMDB Votes</th>\n      <th>Metascore</th>\n    </tr>\n  </thead>\n  <tbody>\n    <tr>\n      <td>0</td>\n      <td>tt1375666</td>\n      <td>Inception</td>\n      <td>Christopher Nolan</td>\n      <td>Leonardo DiCaprio</td>\n      <td>2010</td>\n      <td>$292,568,851</td>\n      <td>PG-13</td>\n      <td>8.8</td>\n      <td>1,953,512</td>\n      <td>74.0</td>\n    </tr>\n    <tr>\n      <td>1</td>\n      <td>tt1345836</td>\n      <td>The Dark Knight Rises</td>\n      <td>Christopher Nolan</td>\n      <td>Christian Bale</td>\n      <td>2012</td>\n      <td>$448,130,642</td>\n      <td>PG-13</td>\n      <td>8.4</td>\n      <td>1,454,342</td>\n      <td>78.0</td>\n    </tr>\n    <tr>\n      <td>2</td>\n      <td>tt0816692</td>\n      <td>Interstellar</td>\n      <td>Christopher Nolan</td>\n      <td>Ellen Burstyn</td>\n      <td>2014</td>\n      <td>$158,737,441</td>\n      <td>PG-13</td>\n      <td>8.6</td>\n      <td>1,413,039</td>\n      <td>74.0</td>\n    </tr>\n    <tr>\n      <td>3</td>\n      <td>tt1853728</td>\n      <td>Django Unchained</td>\n      <td>Quentin Tarantino</td>\n      <td>Jamie Foxx</td>\n      <td>2012</td>\n      <td>$162,804,648</td>\n      <td>R</td>\n      <td>8.4</td>\n      <td>1,282,957</td>\n      <td>81.0</td>\n    </tr>\n    <tr>\n      <td>4</td>\n      <td>tt0848228</td>\n      <td>The Avengers</td>\n      <td>Joss Whedon</td>\n      <td>Robert Downey Jr.</td>\n      <td>2012</td>\n      <td>$623,279,547</td>\n      <td>PG-13</td>\n      <td>8.0</td>\n      <td>1,225,316</td>\n      <td>69.0</td>\n    </tr>\n    <tr>\n      <td>...</td>\n      <td>...</td>\n      <td>...</td>\n      <td>...</td>\n      <td>...</td>\n      <td>...</td>\n      <td>...</td>\n      <td>...</td>\n      <td>...</td>\n      <td>...</td>\n      <td>...</td>\n    </tr>\n    <tr>\n      <td>1345</td>\n      <td>tt1316616</td>\n      <td>There Be Dragons</td>\n      <td>Roland Joffé</td>\n      <td>Charlie Cox</td>\n      <td>2011</td>\n      <td>$1,065,439</td>\n      <td>PG-13</td>\n      <td>5.8</td>\n      <td>4,453</td>\n      <td>33.0</td>\n    </tr>\n    <tr>\n      <td>1346</td>\n      <td>tt1566501</td>\n      <td>For Greater Glory: The True Story of Cristiada</td>\n      <td>Dean Wright</td>\n      <td>Mauricio Kuri</td>\n      <td>2012</td>\n      <td>$5,669,081</td>\n      <td>R</td>\n      <td>6.6</td>\n      <td>4,415</td>\n      <td>35.0</td>\n    </tr>\n    <tr>\n      <td>1347</td>\n      <td>tt4939066</td>\n      <td>Battle for Incheon: Operation Chromite</td>\n      <td>John H. Lee</td>\n      <td>Liam Neeson</td>\n      <td>2016</td>\n      <td>$904,216</td>\n      <td>Not Rated</td>\n      <td>6.2</td>\n      <td>4,305</td>\n      <td>50.0</td>\n    </tr>\n    <tr>\n      <td>1348</td>\n      <td>tt1496005</td>\n      <td>The Tree</td>\n      <td>Julie Bertuccelli</td>\n      <td>Charlotte Gainsbourg</td>\n      <td>2010</td>\n      <td>$69,236</td>\n      <td>Not Rated</td>\n      <td>6.6</td>\n      <td>4,279</td>\n      <td>58.0</td>\n    </tr>\n    <tr>\n      <td>1349</td>\n      <td>tt1672845</td>\n      <td>Tonight You're Mine</td>\n      <td>David Mackenzie</td>\n      <td>Rebecca Benson</td>\n      <td>2011</td>\n      <td>$5,086</td>\n      <td>R</td>\n      <td>6.7</td>\n      <td>4,223</td>\n      <td>41.0</td>\n    </tr>\n  </tbody>\n</table>\n<p>1350 rows × 10 columns</p>\n</div>"
     },
     "metadata": {},
     "execution_count": 2
    }
   ],
   "source": [
    "df = pd.read_csv('Resources/Data/data.csv')\n",
    "df.dropna(inplace=True)\n",
    "df.reset_index(inplace=True)\n",
    "df.drop(['Unnamed: 0', 'index'], axis=1, inplace=True)\n",
    "df"
   ]
  },
  {
   "cell_type": "code",
   "execution_count": 3,
   "metadata": {},
   "outputs": [
    {
     "output_type": "execute_result",
     "data": {
      "text/plain": "IMDB ID         object\nTitle           object\nDirector        object\nActor           object\nYear            object\nBox Office      object\nRating          object\nIMDB Rating    float64\nIMDB Votes      object\nMetascore      float64\ndtype: object"
     },
     "metadata": {},
     "execution_count": 3
    }
   ],
   "source": [
    "df.dtypes"
   ]
  },
  {
   "cell_type": "markdown",
   "metadata": {},
   "source": [
    "## Things to Cleanup\n",
    "* Year: remove hyphenated years\n",
    "* Box Office: remove dollar signs and commas\n",
    "* IMDB Votes: remove commas"
   ]
  },
  {
   "cell_type": "markdown",
   "metadata": {},
   "source": [
    "## Year Cleanup"
   ]
  },
  {
   "cell_type": "markdown",
   "metadata": {},
   "source": [
    "### Update data type for Year col"
   ]
  },
  {
   "cell_type": "code",
   "execution_count": 4,
   "metadata": {},
   "outputs": [
    {
     "output_type": "execute_result",
     "data": {
      "text/plain": "IMDB ID         object\nTitle           object\nDirector        object\nActor           object\nYear             int32\nBox Office      object\nRating          object\nIMDB Rating    float64\nIMDB Votes      object\nMetascore      float64\ndtype: object"
     },
     "metadata": {},
     "execution_count": 4
    }
   ],
   "source": [
    "df = df.astype({'Year': int})\n",
    "df.dtypes"
   ]
  },
  {
   "cell_type": "markdown",
   "metadata": {},
   "source": [
    "### Find rows outside of 2010s range"
   ]
  },
  {
   "cell_type": "code",
   "execution_count": 5,
   "metadata": {},
   "outputs": [
    {
     "output_type": "stream",
     "name": "stdout",
     "text": "[176, 204, 262, 344, 610, 612, 637, 815, 827, 904, 955, 1026, 1135, 1162, 1196, 1198, 1215, 1295]\n"
    }
   ],
   "source": [
    "index_list = []\n",
    "\n",
    "for index, row in df.iterrows():\n",
    "    year = row.Year\n",
    "    if year < 2010 or year >= 2019:\n",
    "        index_list.append(index)\n",
    "print(index_list)"
   ]
  },
  {
   "cell_type": "code",
   "execution_count": 7,
   "metadata": {},
   "outputs": [
    {
     "output_type": "error",
     "ename": "KeyError",
     "evalue": "'[ 176  204  262  344  610  612  637  815  827  904  955 1026 1135 1162\\n 1196 1198 1215 1295] not found in axis'",
     "traceback": [
      "\u001b[1;31m---------------------------------------------------------------------------\u001b[0m",
      "\u001b[1;31mKeyError\u001b[0m                                  Traceback (most recent call last)",
      "\u001b[1;32m<ipython-input-7-b48efe1d2634>\u001b[0m in \u001b[0;36m<module>\u001b[1;34m\u001b[0m\n\u001b[1;32m----> 1\u001b[1;33m \u001b[0mdf\u001b[0m\u001b[1;33m.\u001b[0m\u001b[0mdrop\u001b[0m\u001b[1;33m(\u001b[0m\u001b[0mindex_list\u001b[0m\u001b[1;33m,\u001b[0m \u001b[0minplace\u001b[0m\u001b[1;33m=\u001b[0m\u001b[1;32mTrue\u001b[0m\u001b[1;33m)\u001b[0m\u001b[1;33m\u001b[0m\u001b[1;33m\u001b[0m\u001b[0m\n\u001b[0m\u001b[0;32m      2\u001b[0m \u001b[0mdf\u001b[0m\u001b[1;33m.\u001b[0m\u001b[0mhead\u001b[0m\u001b[1;33m(\u001b[0m\u001b[1;33m)\u001b[0m\u001b[1;33m\u001b[0m\u001b[1;33m\u001b[0m\u001b[0m\n",
      "\u001b[1;32m~\\Documents\\Conda\\lib\\site-packages\\pandas\\core\\frame.py\u001b[0m in \u001b[0;36mdrop\u001b[1;34m(self, labels, axis, index, columns, level, inplace, errors)\u001b[0m\n\u001b[0;32m   4100\u001b[0m             \u001b[0mlevel\u001b[0m\u001b[1;33m=\u001b[0m\u001b[0mlevel\u001b[0m\u001b[1;33m,\u001b[0m\u001b[1;33m\u001b[0m\u001b[1;33m\u001b[0m\u001b[0m\n\u001b[0;32m   4101\u001b[0m             \u001b[0minplace\u001b[0m\u001b[1;33m=\u001b[0m\u001b[0minplace\u001b[0m\u001b[1;33m,\u001b[0m\u001b[1;33m\u001b[0m\u001b[1;33m\u001b[0m\u001b[0m\n\u001b[1;32m-> 4102\u001b[1;33m             \u001b[0merrors\u001b[0m\u001b[1;33m=\u001b[0m\u001b[0merrors\u001b[0m\u001b[1;33m,\u001b[0m\u001b[1;33m\u001b[0m\u001b[1;33m\u001b[0m\u001b[0m\n\u001b[0m\u001b[0;32m   4103\u001b[0m         )\n\u001b[0;32m   4104\u001b[0m \u001b[1;33m\u001b[0m\u001b[0m\n",
      "\u001b[1;32m~\\Documents\\Conda\\lib\\site-packages\\pandas\\core\\generic.py\u001b[0m in \u001b[0;36mdrop\u001b[1;34m(self, labels, axis, index, columns, level, inplace, errors)\u001b[0m\n\u001b[0;32m   3912\u001b[0m         \u001b[1;32mfor\u001b[0m \u001b[0maxis\u001b[0m\u001b[1;33m,\u001b[0m \u001b[0mlabels\u001b[0m \u001b[1;32min\u001b[0m \u001b[0maxes\u001b[0m\u001b[1;33m.\u001b[0m\u001b[0mitems\u001b[0m\u001b[1;33m(\u001b[0m\u001b[1;33m)\u001b[0m\u001b[1;33m:\u001b[0m\u001b[1;33m\u001b[0m\u001b[1;33m\u001b[0m\u001b[0m\n\u001b[0;32m   3913\u001b[0m             \u001b[1;32mif\u001b[0m \u001b[0mlabels\u001b[0m \u001b[1;32mis\u001b[0m \u001b[1;32mnot\u001b[0m \u001b[1;32mNone\u001b[0m\u001b[1;33m:\u001b[0m\u001b[1;33m\u001b[0m\u001b[1;33m\u001b[0m\u001b[0m\n\u001b[1;32m-> 3914\u001b[1;33m                 \u001b[0mobj\u001b[0m \u001b[1;33m=\u001b[0m \u001b[0mobj\u001b[0m\u001b[1;33m.\u001b[0m\u001b[0m_drop_axis\u001b[0m\u001b[1;33m(\u001b[0m\u001b[0mlabels\u001b[0m\u001b[1;33m,\u001b[0m \u001b[0maxis\u001b[0m\u001b[1;33m,\u001b[0m \u001b[0mlevel\u001b[0m\u001b[1;33m=\u001b[0m\u001b[0mlevel\u001b[0m\u001b[1;33m,\u001b[0m \u001b[0merrors\u001b[0m\u001b[1;33m=\u001b[0m\u001b[0merrors\u001b[0m\u001b[1;33m)\u001b[0m\u001b[1;33m\u001b[0m\u001b[1;33m\u001b[0m\u001b[0m\n\u001b[0m\u001b[0;32m   3915\u001b[0m \u001b[1;33m\u001b[0m\u001b[0m\n\u001b[0;32m   3916\u001b[0m         \u001b[1;32mif\u001b[0m \u001b[0minplace\u001b[0m\u001b[1;33m:\u001b[0m\u001b[1;33m\u001b[0m\u001b[1;33m\u001b[0m\u001b[0m\n",
      "\u001b[1;32m~\\Documents\\Conda\\lib\\site-packages\\pandas\\core\\generic.py\u001b[0m in \u001b[0;36m_drop_axis\u001b[1;34m(self, labels, axis, level, errors)\u001b[0m\n\u001b[0;32m   3944\u001b[0m                 \u001b[0mnew_axis\u001b[0m \u001b[1;33m=\u001b[0m \u001b[0maxis\u001b[0m\u001b[1;33m.\u001b[0m\u001b[0mdrop\u001b[0m\u001b[1;33m(\u001b[0m\u001b[0mlabels\u001b[0m\u001b[1;33m,\u001b[0m \u001b[0mlevel\u001b[0m\u001b[1;33m=\u001b[0m\u001b[0mlevel\u001b[0m\u001b[1;33m,\u001b[0m \u001b[0merrors\u001b[0m\u001b[1;33m=\u001b[0m\u001b[0merrors\u001b[0m\u001b[1;33m)\u001b[0m\u001b[1;33m\u001b[0m\u001b[1;33m\u001b[0m\u001b[0m\n\u001b[0;32m   3945\u001b[0m             \u001b[1;32melse\u001b[0m\u001b[1;33m:\u001b[0m\u001b[1;33m\u001b[0m\u001b[1;33m\u001b[0m\u001b[0m\n\u001b[1;32m-> 3946\u001b[1;33m                 \u001b[0mnew_axis\u001b[0m \u001b[1;33m=\u001b[0m \u001b[0maxis\u001b[0m\u001b[1;33m.\u001b[0m\u001b[0mdrop\u001b[0m\u001b[1;33m(\u001b[0m\u001b[0mlabels\u001b[0m\u001b[1;33m,\u001b[0m \u001b[0merrors\u001b[0m\u001b[1;33m=\u001b[0m\u001b[0merrors\u001b[0m\u001b[1;33m)\u001b[0m\u001b[1;33m\u001b[0m\u001b[1;33m\u001b[0m\u001b[0m\n\u001b[0m\u001b[0;32m   3947\u001b[0m             \u001b[0mresult\u001b[0m \u001b[1;33m=\u001b[0m \u001b[0mself\u001b[0m\u001b[1;33m.\u001b[0m\u001b[0mreindex\u001b[0m\u001b[1;33m(\u001b[0m\u001b[1;33m**\u001b[0m\u001b[1;33m{\u001b[0m\u001b[0maxis_name\u001b[0m\u001b[1;33m:\u001b[0m \u001b[0mnew_axis\u001b[0m\u001b[1;33m}\u001b[0m\u001b[1;33m)\u001b[0m\u001b[1;33m\u001b[0m\u001b[1;33m\u001b[0m\u001b[0m\n\u001b[0;32m   3948\u001b[0m \u001b[1;33m\u001b[0m\u001b[0m\n",
      "\u001b[1;32m~\\Documents\\Conda\\lib\\site-packages\\pandas\\core\\indexes\\base.py\u001b[0m in \u001b[0;36mdrop\u001b[1;34m(self, labels, errors)\u001b[0m\n\u001b[0;32m   5338\u001b[0m         \u001b[1;32mif\u001b[0m \u001b[0mmask\u001b[0m\u001b[1;33m.\u001b[0m\u001b[0many\u001b[0m\u001b[1;33m(\u001b[0m\u001b[1;33m)\u001b[0m\u001b[1;33m:\u001b[0m\u001b[1;33m\u001b[0m\u001b[1;33m\u001b[0m\u001b[0m\n\u001b[0;32m   5339\u001b[0m             \u001b[1;32mif\u001b[0m \u001b[0merrors\u001b[0m \u001b[1;33m!=\u001b[0m \u001b[1;34m\"ignore\"\u001b[0m\u001b[1;33m:\u001b[0m\u001b[1;33m\u001b[0m\u001b[1;33m\u001b[0m\u001b[0m\n\u001b[1;32m-> 5340\u001b[1;33m                 \u001b[1;32mraise\u001b[0m \u001b[0mKeyError\u001b[0m\u001b[1;33m(\u001b[0m\u001b[1;34m\"{} not found in axis\"\u001b[0m\u001b[1;33m.\u001b[0m\u001b[0mformat\u001b[0m\u001b[1;33m(\u001b[0m\u001b[0mlabels\u001b[0m\u001b[1;33m[\u001b[0m\u001b[0mmask\u001b[0m\u001b[1;33m]\u001b[0m\u001b[1;33m)\u001b[0m\u001b[1;33m)\u001b[0m\u001b[1;33m\u001b[0m\u001b[1;33m\u001b[0m\u001b[0m\n\u001b[0m\u001b[0;32m   5341\u001b[0m             \u001b[0mindexer\u001b[0m \u001b[1;33m=\u001b[0m \u001b[0mindexer\u001b[0m\u001b[1;33m[\u001b[0m\u001b[1;33m~\u001b[0m\u001b[0mmask\u001b[0m\u001b[1;33m]\u001b[0m\u001b[1;33m\u001b[0m\u001b[1;33m\u001b[0m\u001b[0m\n\u001b[0;32m   5342\u001b[0m         \u001b[1;32mreturn\u001b[0m \u001b[0mself\u001b[0m\u001b[1;33m.\u001b[0m\u001b[0mdelete\u001b[0m\u001b[1;33m(\u001b[0m\u001b[0mindexer\u001b[0m\u001b[1;33m)\u001b[0m\u001b[1;33m\u001b[0m\u001b[1;33m\u001b[0m\u001b[0m\n",
      "\u001b[1;31mKeyError\u001b[0m: '[ 176  204  262  344  610  612  637  815  827  904  955 1026 1135 1162\\n 1196 1198 1215 1295] not found in axis'"
     ]
    }
   ],
   "source": [
    "df.drop(index_list, inplace=True)\n",
    "df.head()"
   ]
  },
  {
   "cell_type": "markdown",
   "metadata": {},
   "source": [
    "## Box Office Cleanup"
   ]
  },
  {
   "cell_type": "code",
   "execution_count": 8,
   "metadata": {},
   "outputs": [
    {
     "output_type": "execute_result",
     "data": {
      "text/plain": "     IMDB ID                  Title           Director              Actor  \\\n0  tt1375666              Inception  Christopher Nolan  Leonardo DiCaprio   \n1  tt1345836  The Dark Knight Rises  Christopher Nolan     Christian Bale   \n2  tt0816692           Interstellar  Christopher Nolan      Ellen Burstyn   \n3  tt1853728       Django Unchained  Quentin Tarantino         Jamie Foxx   \n4  tt0848228           The Avengers        Joss Whedon  Robert Downey Jr.   \n\n   Year   Box Office Rating  IMDB Rating IMDB Votes  Metascore  \n0  2010  292568851.0  PG-13          8.8  1,953,512       74.0  \n1  2012  448130642.0  PG-13          8.4  1,454,342       78.0  \n2  2014  158737441.0  PG-13          8.6  1,413,039       74.0  \n3  2012  162804648.0      R          8.4  1,282,957       81.0  \n4  2012  623279547.0  PG-13          8.0  1,225,316       69.0  ",
      "text/html": "<div>\n<style scoped>\n    .dataframe tbody tr th:only-of-type {\n        vertical-align: middle;\n    }\n\n    .dataframe tbody tr th {\n        vertical-align: top;\n    }\n\n    .dataframe thead th {\n        text-align: right;\n    }\n</style>\n<table border=\"1\" class=\"dataframe\">\n  <thead>\n    <tr style=\"text-align: right;\">\n      <th></th>\n      <th>IMDB ID</th>\n      <th>Title</th>\n      <th>Director</th>\n      <th>Actor</th>\n      <th>Year</th>\n      <th>Box Office</th>\n      <th>Rating</th>\n      <th>IMDB Rating</th>\n      <th>IMDB Votes</th>\n      <th>Metascore</th>\n    </tr>\n  </thead>\n  <tbody>\n    <tr>\n      <td>0</td>\n      <td>tt1375666</td>\n      <td>Inception</td>\n      <td>Christopher Nolan</td>\n      <td>Leonardo DiCaprio</td>\n      <td>2010</td>\n      <td>292568851.0</td>\n      <td>PG-13</td>\n      <td>8.8</td>\n      <td>1,953,512</td>\n      <td>74.0</td>\n    </tr>\n    <tr>\n      <td>1</td>\n      <td>tt1345836</td>\n      <td>The Dark Knight Rises</td>\n      <td>Christopher Nolan</td>\n      <td>Christian Bale</td>\n      <td>2012</td>\n      <td>448130642.0</td>\n      <td>PG-13</td>\n      <td>8.4</td>\n      <td>1,454,342</td>\n      <td>78.0</td>\n    </tr>\n    <tr>\n      <td>2</td>\n      <td>tt0816692</td>\n      <td>Interstellar</td>\n      <td>Christopher Nolan</td>\n      <td>Ellen Burstyn</td>\n      <td>2014</td>\n      <td>158737441.0</td>\n      <td>PG-13</td>\n      <td>8.6</td>\n      <td>1,413,039</td>\n      <td>74.0</td>\n    </tr>\n    <tr>\n      <td>3</td>\n      <td>tt1853728</td>\n      <td>Django Unchained</td>\n      <td>Quentin Tarantino</td>\n      <td>Jamie Foxx</td>\n      <td>2012</td>\n      <td>162804648.0</td>\n      <td>R</td>\n      <td>8.4</td>\n      <td>1,282,957</td>\n      <td>81.0</td>\n    </tr>\n    <tr>\n      <td>4</td>\n      <td>tt0848228</td>\n      <td>The Avengers</td>\n      <td>Joss Whedon</td>\n      <td>Robert Downey Jr.</td>\n      <td>2012</td>\n      <td>623279547.0</td>\n      <td>PG-13</td>\n      <td>8.0</td>\n      <td>1,225,316</td>\n      <td>69.0</td>\n    </tr>\n  </tbody>\n</table>\n</div>"
     },
     "metadata": {},
     "execution_count": 8
    }
   ],
   "source": [
    "df['Box Office'] = df['Box Office'].apply(lambda x: float(x.translate({ord('$'): None, ord(','): None})))\n",
    "df.head()"
   ]
  },
  {
   "cell_type": "markdown",
   "metadata": {},
   "source": [
    "## IMDB Votes Cleanup"
   ]
  },
  {
   "cell_type": "code",
   "execution_count": 9,
   "metadata": {},
   "outputs": [
    {
     "output_type": "execute_result",
     "data": {
      "text/plain": "     IMDB ID                  Title           Director              Actor  \\\n0  tt1375666              Inception  Christopher Nolan  Leonardo DiCaprio   \n1  tt1345836  The Dark Knight Rises  Christopher Nolan     Christian Bale   \n2  tt0816692           Interstellar  Christopher Nolan      Ellen Burstyn   \n3  tt1853728       Django Unchained  Quentin Tarantino         Jamie Foxx   \n4  tt0848228           The Avengers        Joss Whedon  Robert Downey Jr.   \n\n   Year   Box Office Rating  IMDB Rating  IMDB Votes  Metascore  \n0  2010  292568851.0  PG-13          8.8   1953512.0       74.0  \n1  2012  448130642.0  PG-13          8.4   1454342.0       78.0  \n2  2014  158737441.0  PG-13          8.6   1413039.0       74.0  \n3  2012  162804648.0      R          8.4   1282957.0       81.0  \n4  2012  623279547.0  PG-13          8.0   1225316.0       69.0  ",
      "text/html": "<div>\n<style scoped>\n    .dataframe tbody tr th:only-of-type {\n        vertical-align: middle;\n    }\n\n    .dataframe tbody tr th {\n        vertical-align: top;\n    }\n\n    .dataframe thead th {\n        text-align: right;\n    }\n</style>\n<table border=\"1\" class=\"dataframe\">\n  <thead>\n    <tr style=\"text-align: right;\">\n      <th></th>\n      <th>IMDB ID</th>\n      <th>Title</th>\n      <th>Director</th>\n      <th>Actor</th>\n      <th>Year</th>\n      <th>Box Office</th>\n      <th>Rating</th>\n      <th>IMDB Rating</th>\n      <th>IMDB Votes</th>\n      <th>Metascore</th>\n    </tr>\n  </thead>\n  <tbody>\n    <tr>\n      <td>0</td>\n      <td>tt1375666</td>\n      <td>Inception</td>\n      <td>Christopher Nolan</td>\n      <td>Leonardo DiCaprio</td>\n      <td>2010</td>\n      <td>292568851.0</td>\n      <td>PG-13</td>\n      <td>8.8</td>\n      <td>1953512.0</td>\n      <td>74.0</td>\n    </tr>\n    <tr>\n      <td>1</td>\n      <td>tt1345836</td>\n      <td>The Dark Knight Rises</td>\n      <td>Christopher Nolan</td>\n      <td>Christian Bale</td>\n      <td>2012</td>\n      <td>448130642.0</td>\n      <td>PG-13</td>\n      <td>8.4</td>\n      <td>1454342.0</td>\n      <td>78.0</td>\n    </tr>\n    <tr>\n      <td>2</td>\n      <td>tt0816692</td>\n      <td>Interstellar</td>\n      <td>Christopher Nolan</td>\n      <td>Ellen Burstyn</td>\n      <td>2014</td>\n      <td>158737441.0</td>\n      <td>PG-13</td>\n      <td>8.6</td>\n      <td>1413039.0</td>\n      <td>74.0</td>\n    </tr>\n    <tr>\n      <td>3</td>\n      <td>tt1853728</td>\n      <td>Django Unchained</td>\n      <td>Quentin Tarantino</td>\n      <td>Jamie Foxx</td>\n      <td>2012</td>\n      <td>162804648.0</td>\n      <td>R</td>\n      <td>8.4</td>\n      <td>1282957.0</td>\n      <td>81.0</td>\n    </tr>\n    <tr>\n      <td>4</td>\n      <td>tt0848228</td>\n      <td>The Avengers</td>\n      <td>Joss Whedon</td>\n      <td>Robert Downey Jr.</td>\n      <td>2012</td>\n      <td>623279547.0</td>\n      <td>PG-13</td>\n      <td>8.0</td>\n      <td>1225316.0</td>\n      <td>69.0</td>\n    </tr>\n  </tbody>\n</table>\n</div>"
     },
     "metadata": {},
     "execution_count": 9
    }
   ],
   "source": [
    "df['IMDB Votes'] = df['IMDB Votes'].apply(lambda x: float(x.translate({ord(','): None})))\n",
    "df.head()"
   ]
  },
  {
   "cell_type": "markdown",
   "metadata": {},
   "source": [
    "## Verify data types"
   ]
  },
  {
   "cell_type": "code",
   "execution_count": 10,
   "metadata": {},
   "outputs": [
    {
     "output_type": "execute_result",
     "data": {
      "text/plain": "IMDB ID         object\nTitle           object\nDirector        object\nActor           object\nYear             int32\nBox Office     float64\nRating          object\nIMDB Rating    float64\nIMDB Votes     float64\nMetascore      float64\ndtype: object"
     },
     "metadata": {},
     "execution_count": 10
    }
   ],
   "source": [
    "df.dtypes"
   ]
  },
  {
   "cell_type": "markdown",
   "metadata": {},
   "source": [
    "## Save to csv"
   ]
  },
  {
   "cell_type": "code",
   "execution_count": 11,
   "metadata": {},
   "outputs": [],
   "source": [
    "df.to_csv('Resources/Data/clean_data.csv')"
   ]
  },
  {
   "cell_type": "code",
   "execution_count": 34,
   "metadata": {},
   "outputs": [],
   "source": [
    "from matplotlib import pyplot as plt"
   ]
  },
  {
   "cell_type": "code",
   "execution_count": 35,
   "metadata": {},
   "outputs": [
    {
     "output_type": "display_data",
     "data": {
      "text/plain": "<Figure size 432x288 with 1 Axes>",
      "image/svg+xml": "<?xml version=\"1.0\" encoding=\"utf-8\" standalone=\"no\"?>\r\n<!DOCTYPE svg PUBLIC \"-//W3C//DTD SVG 1.1//EN\"\r\n  \"http://www.w3.org/Graphics/SVG/1.1/DTD/svg11.dtd\">\r\n<!-- Created with matplotlib (https://matplotlib.org/) -->\r\n<svg height=\"248.518125pt\" version=\"1.1\" viewBox=\"0 0 375.2875 248.518125\" width=\"375.2875pt\" xmlns=\"http://www.w3.org/2000/svg\" xmlns:xlink=\"http://www.w3.org/1999/xlink\">\r\n <defs>\r\n  <style type=\"text/css\">\r\n*{stroke-linecap:butt;stroke-linejoin:round;}\r\n  </style>\r\n </defs>\r\n <g id=\"figure_1\">\r\n  <g id=\"patch_1\">\r\n   <path d=\"M 0 248.518125 \r\nL 375.2875 248.518125 \r\nL 375.2875 0 \r\nL 0 0 \r\nz\r\n\" style=\"fill:none;\"/>\r\n  </g>\r\n  <g id=\"axes_1\">\r\n   <g id=\"patch_2\">\r\n    <path d=\"M 33.2875 224.64 \r\nL 368.0875 224.64 \r\nL 368.0875 7.2 \r\nL 33.2875 7.2 \r\nz\r\n\" style=\"fill:#ffffff;\"/>\r\n   </g>\r\n   <g id=\"patch_3\">\r\n    <path clip-path=\"url(#p60a600af60)\" d=\"M 48.505682 224.64 \r\nL 78.942045 224.64 \r\nL 78.942045 218.932913 \r\nL 48.505682 218.932913 \r\nz\r\n\" style=\"fill:#1f77b4;\"/>\r\n   </g>\r\n   <g id=\"patch_4\">\r\n    <path clip-path=\"url(#p60a600af60)\" d=\"M 78.942045 224.64 \r\nL 109.378409 224.64 \r\nL 109.378409 191.212778 \r\nL 78.942045 191.212778 \r\nz\r\n\" style=\"fill:#1f77b4;\"/>\r\n   </g>\r\n   <g id=\"patch_5\">\r\n    <path clip-path=\"url(#p60a600af60)\" d=\"M 109.378409 224.64 \r\nL 139.814773 224.64 \r\nL 139.814773 138.218403 \r\nL 109.378409 138.218403 \r\nz\r\n\" style=\"fill:#1f77b4;\"/>\r\n   </g>\r\n   <g id=\"patch_6\">\r\n    <path clip-path=\"url(#p60a600af60)\" d=\"M 139.814773 224.64 \r\nL 170.251136 224.64 \r\nL 170.251136 71.36396 \r\nL 139.814773 71.36396 \r\nz\r\n\" style=\"fill:#1f77b4;\"/>\r\n   </g>\r\n   <g id=\"patch_7\">\r\n    <path clip-path=\"url(#p60a600af60)\" d=\"M 170.251136 224.64 \r\nL 200.6875 224.64 \r\nL 200.6875 28.153161 \r\nL 170.251136 28.153161 \r\nz\r\n\" style=\"fill:#1f77b4;\"/>\r\n   </g>\r\n   <g id=\"patch_8\">\r\n    <path clip-path=\"url(#p60a600af60)\" d=\"M 200.6875 224.64 \r\nL 231.123864 224.64 \r\nL 231.123864 17.554286 \r\nL 200.6875 17.554286 \r\nz\r\n\" style=\"fill:#1f77b4;\"/>\r\n   </g>\r\n   <g id=\"patch_9\">\r\n    <path clip-path=\"url(#p60a600af60)\" d=\"M 231.123864 224.64 \r\nL 261.560227 224.64 \r\nL 261.560227 23.261372 \r\nL 231.123864 23.261372 \r\nz\r\n\" style=\"fill:#1f77b4;\"/>\r\n   </g>\r\n   <g id=\"patch_10\">\r\n    <path clip-path=\"url(#p60a600af60)\" d=\"M 261.560227 224.64 \r\nL 291.996591 224.64 \r\nL 291.996591 104.791181 \r\nL 261.560227 104.791181 \r\nz\r\n\" style=\"fill:#1f77b4;\"/>\r\n   </g>\r\n   <g id=\"patch_11\">\r\n    <path clip-path=\"url(#p60a600af60)\" d=\"M 291.996591 224.64 \r\nL 322.432955 224.64 \r\nL 322.432955 154.524364 \r\nL 291.996591 154.524364 \r\nz\r\n\" style=\"fill:#1f77b4;\"/>\r\n   </g>\r\n   <g id=\"patch_12\">\r\n    <path clip-path=\"url(#p60a600af60)\" d=\"M 322.432955 224.64 \r\nL 352.869318 224.64 \r\nL 352.869318 212.410529 \r\nL 322.432955 212.410529 \r\nz\r\n\" style=\"fill:#1f77b4;\"/>\r\n   </g>\r\n   <g id=\"matplotlib.axis_1\">\r\n    <g id=\"xtick_1\">\r\n     <g id=\"line2d_1\">\r\n      <defs>\r\n       <path d=\"M 0 0 \r\nL 0 3.5 \r\n\" id=\"mf5c8844042\" style=\"stroke:#000000;stroke-width:0.8;\"/>\r\n      </defs>\r\n      <g>\r\n       <use style=\"stroke:#000000;stroke-width:0.8;\" x=\"96.563098\" xlink:href=\"#mf5c8844042\" y=\"224.64\"/>\r\n      </g>\r\n     </g>\r\n     <g id=\"text_1\">\r\n      <!-- 20 -->\r\n      <defs>\r\n       <path d=\"M 19.1875 8.296875 \r\nL 53.609375 8.296875 \r\nL 53.609375 0 \r\nL 7.328125 0 \r\nL 7.328125 8.296875 \r\nQ 12.9375 14.109375 22.625 23.890625 \r\nQ 32.328125 33.6875 34.8125 36.53125 \r\nQ 39.546875 41.84375 41.421875 45.53125 \r\nQ 43.3125 49.21875 43.3125 52.78125 \r\nQ 43.3125 58.59375 39.234375 62.25 \r\nQ 35.15625 65.921875 28.609375 65.921875 \r\nQ 23.96875 65.921875 18.8125 64.3125 \r\nQ 13.671875 62.703125 7.8125 59.421875 \r\nL 7.8125 69.390625 \r\nQ 13.765625 71.78125 18.9375 73 \r\nQ 24.125 74.21875 28.421875 74.21875 \r\nQ 39.75 74.21875 46.484375 68.546875 \r\nQ 53.21875 62.890625 53.21875 53.421875 \r\nQ 53.21875 48.921875 51.53125 44.890625 \r\nQ 49.859375 40.875 45.40625 35.40625 \r\nQ 44.1875 33.984375 37.640625 27.21875 \r\nQ 31.109375 20.453125 19.1875 8.296875 \r\nz\r\n\" id=\"DejaVuSans-50\"/>\r\n       <path d=\"M 31.78125 66.40625 \r\nQ 24.171875 66.40625 20.328125 58.90625 \r\nQ 16.5 51.421875 16.5 36.375 \r\nQ 16.5 21.390625 20.328125 13.890625 \r\nQ 24.171875 6.390625 31.78125 6.390625 \r\nQ 39.453125 6.390625 43.28125 13.890625 \r\nQ 47.125 21.390625 47.125 36.375 \r\nQ 47.125 51.421875 43.28125 58.90625 \r\nQ 39.453125 66.40625 31.78125 66.40625 \r\nz\r\nM 31.78125 74.21875 \r\nQ 44.046875 74.21875 50.515625 64.515625 \r\nQ 56.984375 54.828125 56.984375 36.375 \r\nQ 56.984375 17.96875 50.515625 8.265625 \r\nQ 44.046875 -1.421875 31.78125 -1.421875 \r\nQ 19.53125 -1.421875 13.0625 8.265625 \r\nQ 6.59375 17.96875 6.59375 36.375 \r\nQ 6.59375 54.828125 13.0625 64.515625 \r\nQ 19.53125 74.21875 31.78125 74.21875 \r\nz\r\n\" id=\"DejaVuSans-48\"/>\r\n      </defs>\r\n      <g transform=\"translate(90.200598 239.238437)scale(0.1 -0.1)\">\r\n       <use xlink:href=\"#DejaVuSans-50\"/>\r\n       <use x=\"63.623047\" xlink:href=\"#DejaVuSans-48\"/>\r\n      </g>\r\n     </g>\r\n    </g>\r\n    <g id=\"xtick_2\">\r\n     <g id=\"line2d_2\">\r\n      <g>\r\n       <use style=\"stroke:#000000;stroke-width:0.8;\" x=\"160.639653\" xlink:href=\"#mf5c8844042\" y=\"224.64\"/>\r\n      </g>\r\n     </g>\r\n     <g id=\"text_2\">\r\n      <!-- 40 -->\r\n      <defs>\r\n       <path d=\"M 37.796875 64.3125 \r\nL 12.890625 25.390625 \r\nL 37.796875 25.390625 \r\nz\r\nM 35.203125 72.90625 \r\nL 47.609375 72.90625 \r\nL 47.609375 25.390625 \r\nL 58.015625 25.390625 \r\nL 58.015625 17.1875 \r\nL 47.609375 17.1875 \r\nL 47.609375 0 \r\nL 37.796875 0 \r\nL 37.796875 17.1875 \r\nL 4.890625 17.1875 \r\nL 4.890625 26.703125 \r\nz\r\n\" id=\"DejaVuSans-52\"/>\r\n      </defs>\r\n      <g transform=\"translate(154.277153 239.238437)scale(0.1 -0.1)\">\r\n       <use xlink:href=\"#DejaVuSans-52\"/>\r\n       <use x=\"63.623047\" xlink:href=\"#DejaVuSans-48\"/>\r\n      </g>\r\n     </g>\r\n    </g>\r\n    <g id=\"xtick_3\">\r\n     <g id=\"line2d_3\">\r\n      <g>\r\n       <use style=\"stroke:#000000;stroke-width:0.8;\" x=\"224.716208\" xlink:href=\"#mf5c8844042\" y=\"224.64\"/>\r\n      </g>\r\n     </g>\r\n     <g id=\"text_3\">\r\n      <!-- 60 -->\r\n      <defs>\r\n       <path d=\"M 33.015625 40.375 \r\nQ 26.375 40.375 22.484375 35.828125 \r\nQ 18.609375 31.296875 18.609375 23.390625 \r\nQ 18.609375 15.53125 22.484375 10.953125 \r\nQ 26.375 6.390625 33.015625 6.390625 \r\nQ 39.65625 6.390625 43.53125 10.953125 \r\nQ 47.40625 15.53125 47.40625 23.390625 \r\nQ 47.40625 31.296875 43.53125 35.828125 \r\nQ 39.65625 40.375 33.015625 40.375 \r\nz\r\nM 52.59375 71.296875 \r\nL 52.59375 62.3125 \r\nQ 48.875 64.0625 45.09375 64.984375 \r\nQ 41.3125 65.921875 37.59375 65.921875 \r\nQ 27.828125 65.921875 22.671875 59.328125 \r\nQ 17.53125 52.734375 16.796875 39.40625 \r\nQ 19.671875 43.65625 24.015625 45.921875 \r\nQ 28.375 48.1875 33.59375 48.1875 \r\nQ 44.578125 48.1875 50.953125 41.515625 \r\nQ 57.328125 34.859375 57.328125 23.390625 \r\nQ 57.328125 12.15625 50.6875 5.359375 \r\nQ 44.046875 -1.421875 33.015625 -1.421875 \r\nQ 20.359375 -1.421875 13.671875 8.265625 \r\nQ 6.984375 17.96875 6.984375 36.375 \r\nQ 6.984375 53.65625 15.1875 63.9375 \r\nQ 23.390625 74.21875 37.203125 74.21875 \r\nQ 40.921875 74.21875 44.703125 73.484375 \r\nQ 48.484375 72.75 52.59375 71.296875 \r\nz\r\n\" id=\"DejaVuSans-54\"/>\r\n      </defs>\r\n      <g transform=\"translate(218.353708 239.238437)scale(0.1 -0.1)\">\r\n       <use xlink:href=\"#DejaVuSans-54\"/>\r\n       <use x=\"63.623047\" xlink:href=\"#DejaVuSans-48\"/>\r\n      </g>\r\n     </g>\r\n    </g>\r\n    <g id=\"xtick_4\">\r\n     <g id=\"line2d_4\">\r\n      <g>\r\n       <use style=\"stroke:#000000;stroke-width:0.8;\" x=\"288.792763\" xlink:href=\"#mf5c8844042\" y=\"224.64\"/>\r\n      </g>\r\n     </g>\r\n     <g id=\"text_4\">\r\n      <!-- 80 -->\r\n      <defs>\r\n       <path d=\"M 31.78125 34.625 \r\nQ 24.75 34.625 20.71875 30.859375 \r\nQ 16.703125 27.09375 16.703125 20.515625 \r\nQ 16.703125 13.921875 20.71875 10.15625 \r\nQ 24.75 6.390625 31.78125 6.390625 \r\nQ 38.8125 6.390625 42.859375 10.171875 \r\nQ 46.921875 13.96875 46.921875 20.515625 \r\nQ 46.921875 27.09375 42.890625 30.859375 \r\nQ 38.875 34.625 31.78125 34.625 \r\nz\r\nM 21.921875 38.8125 \r\nQ 15.578125 40.375 12.03125 44.71875 \r\nQ 8.5 49.078125 8.5 55.328125 \r\nQ 8.5 64.0625 14.71875 69.140625 \r\nQ 20.953125 74.21875 31.78125 74.21875 \r\nQ 42.671875 74.21875 48.875 69.140625 \r\nQ 55.078125 64.0625 55.078125 55.328125 \r\nQ 55.078125 49.078125 51.53125 44.71875 \r\nQ 48 40.375 41.703125 38.8125 \r\nQ 48.828125 37.15625 52.796875 32.3125 \r\nQ 56.78125 27.484375 56.78125 20.515625 \r\nQ 56.78125 9.90625 50.3125 4.234375 \r\nQ 43.84375 -1.421875 31.78125 -1.421875 \r\nQ 19.734375 -1.421875 13.25 4.234375 \r\nQ 6.78125 9.90625 6.78125 20.515625 \r\nQ 6.78125 27.484375 10.78125 32.3125 \r\nQ 14.796875 37.15625 21.921875 38.8125 \r\nz\r\nM 18.3125 54.390625 \r\nQ 18.3125 48.734375 21.84375 45.5625 \r\nQ 25.390625 42.390625 31.78125 42.390625 \r\nQ 38.140625 42.390625 41.71875 45.5625 \r\nQ 45.3125 48.734375 45.3125 54.390625 \r\nQ 45.3125 60.0625 41.71875 63.234375 \r\nQ 38.140625 66.40625 31.78125 66.40625 \r\nQ 25.390625 66.40625 21.84375 63.234375 \r\nQ 18.3125 60.0625 18.3125 54.390625 \r\nz\r\n\" id=\"DejaVuSans-56\"/>\r\n      </defs>\r\n      <g transform=\"translate(282.430263 239.238437)scale(0.1 -0.1)\">\r\n       <use xlink:href=\"#DejaVuSans-56\"/>\r\n       <use x=\"63.623047\" xlink:href=\"#DejaVuSans-48\"/>\r\n      </g>\r\n     </g>\r\n    </g>\r\n    <g id=\"xtick_5\">\r\n     <g id=\"line2d_5\">\r\n      <g>\r\n       <use style=\"stroke:#000000;stroke-width:0.8;\" x=\"352.869318\" xlink:href=\"#mf5c8844042\" y=\"224.64\"/>\r\n      </g>\r\n     </g>\r\n     <g id=\"text_5\">\r\n      <!-- 100 -->\r\n      <defs>\r\n       <path d=\"M 12.40625 8.296875 \r\nL 28.515625 8.296875 \r\nL 28.515625 63.921875 \r\nL 10.984375 60.40625 \r\nL 10.984375 69.390625 \r\nL 28.421875 72.90625 \r\nL 38.28125 72.90625 \r\nL 38.28125 8.296875 \r\nL 54.390625 8.296875 \r\nL 54.390625 0 \r\nL 12.40625 0 \r\nz\r\n\" id=\"DejaVuSans-49\"/>\r\n      </defs>\r\n      <g transform=\"translate(343.325568 239.238437)scale(0.1 -0.1)\">\r\n       <use xlink:href=\"#DejaVuSans-49\"/>\r\n       <use x=\"63.623047\" xlink:href=\"#DejaVuSans-48\"/>\r\n       <use x=\"127.246094\" xlink:href=\"#DejaVuSans-48\"/>\r\n      </g>\r\n     </g>\r\n    </g>\r\n   </g>\r\n   <g id=\"matplotlib.axis_2\">\r\n    <g id=\"ytick_1\">\r\n     <g id=\"line2d_6\">\r\n      <defs>\r\n       <path d=\"M 0 0 \r\nL -3.5 0 \r\n\" id=\"mc01228df11\" style=\"stroke:#000000;stroke-width:0.8;\"/>\r\n      </defs>\r\n      <g>\r\n       <use style=\"stroke:#000000;stroke-width:0.8;\" x=\"33.2875\" xlink:href=\"#mc01228df11\" y=\"224.64\"/>\r\n      </g>\r\n     </g>\r\n     <g id=\"text_6\">\r\n      <!-- 0 -->\r\n      <g transform=\"translate(19.925 228.439219)scale(0.1 -0.1)\">\r\n       <use xlink:href=\"#DejaVuSans-48\"/>\r\n      </g>\r\n     </g>\r\n    </g>\r\n    <g id=\"ytick_2\">\r\n     <g id=\"line2d_7\">\r\n      <g>\r\n       <use style=\"stroke:#000000;stroke-width:0.8;\" x=\"33.2875\" xlink:href=\"#mc01228df11\" y=\"183.875096\"/>\r\n      </g>\r\n     </g>\r\n     <g id=\"text_7\">\r\n      <!-- 50 -->\r\n      <defs>\r\n       <path d=\"M 10.796875 72.90625 \r\nL 49.515625 72.90625 \r\nL 49.515625 64.59375 \r\nL 19.828125 64.59375 \r\nL 19.828125 46.734375 \r\nQ 21.96875 47.46875 24.109375 47.828125 \r\nQ 26.265625 48.1875 28.421875 48.1875 \r\nQ 40.625 48.1875 47.75 41.5 \r\nQ 54.890625 34.8125 54.890625 23.390625 \r\nQ 54.890625 11.625 47.5625 5.09375 \r\nQ 40.234375 -1.421875 26.90625 -1.421875 \r\nQ 22.3125 -1.421875 17.546875 -0.640625 \r\nQ 12.796875 0.140625 7.71875 1.703125 \r\nL 7.71875 11.625 \r\nQ 12.109375 9.234375 16.796875 8.0625 \r\nQ 21.484375 6.890625 26.703125 6.890625 \r\nQ 35.15625 6.890625 40.078125 11.328125 \r\nQ 45.015625 15.765625 45.015625 23.390625 \r\nQ 45.015625 31 40.078125 35.4375 \r\nQ 35.15625 39.890625 26.703125 39.890625 \r\nQ 22.75 39.890625 18.8125 39.015625 \r\nQ 14.890625 38.140625 10.796875 36.28125 \r\nz\r\n\" id=\"DejaVuSans-53\"/>\r\n      </defs>\r\n      <g transform=\"translate(13.5625 187.674314)scale(0.1 -0.1)\">\r\n       <use xlink:href=\"#DejaVuSans-53\"/>\r\n       <use x=\"63.623047\" xlink:href=\"#DejaVuSans-48\"/>\r\n      </g>\r\n     </g>\r\n    </g>\r\n    <g id=\"ytick_3\">\r\n     <g id=\"line2d_8\">\r\n      <g>\r\n       <use style=\"stroke:#000000;stroke-width:0.8;\" x=\"33.2875\" xlink:href=\"#mc01228df11\" y=\"143.110191\"/>\r\n      </g>\r\n     </g>\r\n     <g id=\"text_8\">\r\n      <!-- 100 -->\r\n      <g transform=\"translate(7.2 146.90941)scale(0.1 -0.1)\">\r\n       <use xlink:href=\"#DejaVuSans-49\"/>\r\n       <use x=\"63.623047\" xlink:href=\"#DejaVuSans-48\"/>\r\n       <use x=\"127.246094\" xlink:href=\"#DejaVuSans-48\"/>\r\n      </g>\r\n     </g>\r\n    </g>\r\n    <g id=\"ytick_4\">\r\n     <g id=\"line2d_9\">\r\n      <g>\r\n       <use style=\"stroke:#000000;stroke-width:0.8;\" x=\"33.2875\" xlink:href=\"#mc01228df11\" y=\"102.345287\"/>\r\n      </g>\r\n     </g>\r\n     <g id=\"text_9\">\r\n      <!-- 150 -->\r\n      <g transform=\"translate(7.2 106.144506)scale(0.1 -0.1)\">\r\n       <use xlink:href=\"#DejaVuSans-49\"/>\r\n       <use x=\"63.623047\" xlink:href=\"#DejaVuSans-53\"/>\r\n       <use x=\"127.246094\" xlink:href=\"#DejaVuSans-48\"/>\r\n      </g>\r\n     </g>\r\n    </g>\r\n    <g id=\"ytick_5\">\r\n     <g id=\"line2d_10\">\r\n      <g>\r\n       <use style=\"stroke:#000000;stroke-width:0.8;\" x=\"33.2875\" xlink:href=\"#mc01228df11\" y=\"61.580382\"/>\r\n      </g>\r\n     </g>\r\n     <g id=\"text_10\">\r\n      <!-- 200 -->\r\n      <g transform=\"translate(7.2 65.379601)scale(0.1 -0.1)\">\r\n       <use xlink:href=\"#DejaVuSans-50\"/>\r\n       <use x=\"63.623047\" xlink:href=\"#DejaVuSans-48\"/>\r\n       <use x=\"127.246094\" xlink:href=\"#DejaVuSans-48\"/>\r\n      </g>\r\n     </g>\r\n    </g>\r\n    <g id=\"ytick_6\">\r\n     <g id=\"line2d_11\">\r\n      <g>\r\n       <use style=\"stroke:#000000;stroke-width:0.8;\" x=\"33.2875\" xlink:href=\"#mc01228df11\" y=\"20.815478\"/>\r\n      </g>\r\n     </g>\r\n     <g id=\"text_11\">\r\n      <!-- 250 -->\r\n      <g transform=\"translate(7.2 24.614697)scale(0.1 -0.1)\">\r\n       <use xlink:href=\"#DejaVuSans-50\"/>\r\n       <use x=\"63.623047\" xlink:href=\"#DejaVuSans-53\"/>\r\n       <use x=\"127.246094\" xlink:href=\"#DejaVuSans-48\"/>\r\n      </g>\r\n     </g>\r\n    </g>\r\n   </g>\r\n   <g id=\"patch_13\">\r\n    <path d=\"M 33.2875 224.64 \r\nL 33.2875 7.2 \r\n\" style=\"fill:none;stroke:#000000;stroke-linecap:square;stroke-linejoin:miter;stroke-width:0.8;\"/>\r\n   </g>\r\n   <g id=\"patch_14\">\r\n    <path d=\"M 368.0875 224.64 \r\nL 368.0875 7.2 \r\n\" style=\"fill:none;stroke:#000000;stroke-linecap:square;stroke-linejoin:miter;stroke-width:0.8;\"/>\r\n   </g>\r\n   <g id=\"patch_15\">\r\n    <path d=\"M 33.2875 224.64 \r\nL 368.0875 224.64 \r\n\" style=\"fill:none;stroke:#000000;stroke-linecap:square;stroke-linejoin:miter;stroke-width:0.8;\"/>\r\n   </g>\r\n   <g id=\"patch_16\">\r\n    <path d=\"M 33.2875 7.2 \r\nL 368.0875 7.2 \r\n\" style=\"fill:none;stroke:#000000;stroke-linecap:square;stroke-linejoin:miter;stroke-width:0.8;\"/>\r\n   </g>\r\n  </g>\r\n </g>\r\n <defs>\r\n  <clipPath id=\"p60a600af60\">\r\n   <rect height=\"217.44\" width=\"334.8\" x=\"33.2875\" y=\"7.2\"/>\r\n  </clipPath>\r\n </defs>\r\n</svg>\r\n",
      "image/png": "[encoded data removed]"
     },
     "metadata": {
      "needs_background": "light"
     }
    }
   ],
   "source": [
    "plt.hist(df['Metascore'])\n",
    "plt.show()"
   ]
  },
  {
   "cell_type": "code",
   "execution_count": 36,
   "metadata": {},
   "outputs": [
    {
     "output_type": "execute_result",
     "data": {
      "text/plain": "              Year    Box Office  IMDB Rating    IMDB Votes    Metascore\ncount  1332.000000  1.332000e+03  1332.000000  1.332000e+03  1332.000000\nmean   2012.882883  4.760412e+07     6.422598  1.258782e+05    55.087087\nstd       2.147060  8.156061e+07     0.891941  1.772323e+05    17.251398\nmin    2010.000000  4.110000e+02     2.000000  4.223000e+03     5.000000\n25%    2011.000000  8.897020e+05     5.900000  2.177075e+04    42.000000\n50%    2013.000000  1.614597e+07     6.400000  6.139150e+04    55.000000\n75%    2014.000000  5.765722e+07     7.100000  1.523252e+05    68.000000\nmax    2018.000000  9.366586e+08     8.800000  1.953512e+06   100.000000",
      "text/html": "<div>\n<style scoped>\n    .dataframe tbody tr th:only-of-type {\n        vertical-align: middle;\n    }\n\n    .dataframe tbody tr th {\n        vertical-align: top;\n    }\n\n    .dataframe thead th {\n        text-align: right;\n    }\n</style>\n<table border=\"1\" class=\"dataframe\">\n  <thead>\n    <tr style=\"text-align: right;\">\n      <th></th>\n      <th>Year</th>\n      <th>Box Office</th>\n      <th>IMDB Rating</th>\n      <th>IMDB Votes</th>\n      <th>Metascore</th>\n    </tr>\n  </thead>\n  <tbody>\n    <tr>\n      <td>count</td>\n      <td>1332.000000</td>\n      <td>1.332000e+03</td>\n      <td>1332.000000</td>\n      <td>1.332000e+03</td>\n      <td>1332.000000</td>\n    </tr>\n    <tr>\n      <td>mean</td>\n      <td>2012.882883</td>\n      <td>4.760412e+07</td>\n      <td>6.422598</td>\n      <td>1.258782e+05</td>\n      <td>55.087087</td>\n    </tr>\n    <tr>\n      <td>std</td>\n      <td>2.147060</td>\n      <td>8.156061e+07</td>\n      <td>0.891941</td>\n      <td>1.772323e+05</td>\n      <td>17.251398</td>\n    </tr>\n    <tr>\n      <td>min</td>\n      <td>2010.000000</td>\n      <td>4.110000e+02</td>\n      <td>2.000000</td>\n      <td>4.223000e+03</td>\n      <td>5.000000</td>\n    </tr>\n    <tr>\n      <td>25%</td>\n      <td>2011.000000</td>\n      <td>8.897020e+05</td>\n      <td>5.900000</td>\n      <td>2.177075e+04</td>\n      <td>42.000000</td>\n    </tr>\n    <tr>\n      <td>50%</td>\n      <td>2013.000000</td>\n      <td>1.614597e+07</td>\n      <td>6.400000</td>\n      <td>6.139150e+04</td>\n      <td>55.000000</td>\n    </tr>\n    <tr>\n      <td>75%</td>\n      <td>2014.000000</td>\n      <td>5.765722e+07</td>\n      <td>7.100000</td>\n      <td>1.523252e+05</td>\n      <td>68.000000</td>\n    </tr>\n    <tr>\n      <td>max</td>\n      <td>2018.000000</td>\n      <td>9.366586e+08</td>\n      <td>8.800000</td>\n      <td>1.953512e+06</td>\n      <td>100.000000</td>\n    </tr>\n  </tbody>\n</table>\n</div>"
     },
     "metadata": {},
     "execution_count": 36
    }
   ],
   "source": [
    "df.describe()"
   ]
  },
  {
   "cell_type": "code",
   "execution_count": null,
   "metadata": {},
   "outputs": [],
   "source": []
  }
 ],
 "metadata": {
  "language_info": {
   "codemirror_mode": {
    "name": "ipython",
    "version": 3
   },
   "file_extension": ".py",
   "mimetype": "text/x-python",
   "name": "python",
   "nbconvert_exporter": "python",
   "pygments_lexer": "ipython3",
   "version": "3.7.4-final"
  },
  "orig_nbformat": 2,
  "kernelspec": {
   "name": "python37464bitbasecondae1a540739375406c8124128569af8a2e",
   "display_name": "Python 3.7.4 64-bit ('base': conda)"
  }
 },
 "nbformat": 4,
 "nbformat_minor": 2
}