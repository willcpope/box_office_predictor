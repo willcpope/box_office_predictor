{
 "cells": [
  {
   "cell_type": "code",
   "execution_count": 1,
   "metadata": {},
   "outputs": [],
   "source": [
    "from bs4 import BeautifulSoup\n",
    "import pymongo\n",
    "import requests\n",
    "import json\n",
    "from pprint import pprint\n",
    "import matplotlib.pyplot as plt\n",
    "import numpy as np\n",
    "import pandas as pd"
   ]
  },
  {
   "cell_type": "code",
   "execution_count": 2,
   "metadata": {},
   "outputs": [],
   "source": [
    "# IMBD Web Scrape\n",
    "movie_titles = []"
   ]
  },
  {
   "cell_type": "code",
   "execution_count": 3,
   "metadata": {},
   "outputs": [],
   "source": [
    "# web scrape code here \n",
    "start = 1\n",
    "\n",
    "while start < 10000:\n",
    "    imdb_url = f'https://www.imdb.com/search/title/?title_type=feature&release_date=2010-01-01,2019-12-31&view=simple&sort=num_votes,desc&start={start}&ref_=adv_nxt'\n",
    "    imdb_response = requests.get(imdb_url)\n",
    "    soup = BeautifulSoup(imdb_response.text, 'html')\n",
    "    results = soup.find_all('div', class_='col-title')\n",
    "    \n",
    "    for result in results:\n",
    "        title = result.find('a').text\n",
    "        movie_titles.append(title)\n",
    "    start += 50"
   ]
  },
  {
   "cell_type": "code",
   "execution_count": 4,
   "metadata": {},
   "outputs": [],
   "source": [
    "# OMDB requests\n",
    "url = \"http://www.omdbapi.com/?t=\"\n",
    "api_key = \"&apikey=trilogy\""
   ]
  },
  {
   "cell_type": "code",
   "execution_count": null,
   "metadata": {},
   "outputs": [],
   "source": [
    "# for loop to access movie titles, and reques OMDB information to dump into JSON output\n",
    "import time\n",
    "\n",
    "output = [] # list for our json objects from OMDB\n",
    "count = 0\n",
    "try:\n",
    "    for movie in movie_titles: \n",
    "        response = requests.get(url + movie + api_key)\n",
    "        data = response.json()\n",
    "        output.append(data)\n",
    "        count += 1\n",
    "except:\n",
    "    print(f'Total movies pulled: {count}')\n",
    "        \n",
    "with open('Resources/Data/data.json', 'w') as outfile:\n",
    "    json.dump(output, outfile)"
   ]
  },
  {
   "cell_type": "code",
   "execution_count": null,
   "metadata": {},
   "outputs": [],
   "source": [
    "output[0]['Metascore']"
   ]
  },
  {
   "cell_type": "code",
   "execution_count": null,
   "metadata": {},
   "outputs": [],
   "source": [
    "movie_titles = []\n",
    "\n",
    "index = 0\n",
    "\n",
    "for item in output:\n",
    "    try:\n",
    "        movie_titles.append(item['Title'])\n",
    "        index += 1\n",
    "    except KeyError:\n",
    "        movie_titles.append(\"NA\")\n",
    "        index += 1\n",
    "\n",
    "len(movie_titles)"
   ]
  },
  {
   "cell_type": "code",
   "execution_count": null,
   "metadata": {
    "tags": [
     "outputPrepend"
    ]
   },
   "outputs": [],
   "source": [
    "metascores = []\n",
    "\n",
    "index = 0\n",
    "\n",
    "for item in output:\n",
    "    try:\n",
    "        metascores.append(item['Metascore'])\n",
    "        index += 1\n",
    "    except KeyError:\n",
    "        metascores.append(\"NA\")\n",
    "        index += 1\n",
    "\n",
    "len(metascores)"
   ]
  },
  {
   "cell_type": "code",
   "execution_count": null,
   "metadata": {
    "tags": [
     "outputPrepend",
     "outputPrepend",
     "outputPrepend",
     "outputPrepend",
     "outputPrepend"
    ]
   },
   "outputs": [],
   "source": [
    "metascore_ints = []\n",
    "error_count = 0\n",
    "\n",
    "for metascore in metascores:\n",
    "    try:\n",
    "        metascore_int = int(metascore)\n",
    "        metascore_ints.append(metascore_int)\n",
    "    except ValueError:\n",
    "        error_count += 1\n",
    "\n",
    "print(f'Error count: {error_count}')\n",
    "    \n",
    "# metascore_ints"
   ]
  },
  {
   "cell_type": "code",
   "execution_count": null,
   "metadata": {},
   "outputs": [],
   "source": [
    "max_score = max(metascore_ints)\n",
    "min_score = min(metascore_ints)\n",
    "\n",
    "print(f'Max Score is: {max_score}')\n",
    "print(f'Min Score is: {min_score}')"
   ]
  },
  {
   "cell_type": "code",
   "execution_count": null,
   "metadata": {},
   "outputs": [],
   "source": [
    "plt.hist(metascore_ints, bins = 10)\n",
    "plt.xlabel(\"Metascore\")\n",
    "plt.ylabel(\"Frequency\")\n",
    "plt.show()"
   ]
  },
  {
   "cell_type": "code",
   "execution_count": null,
   "metadata": {},
   "outputs": [],
   "source": [
    "plt.boxplot(metascore_ints)\n",
    "plt.show()"
   ]
  },
  {
   "cell_type": "code",
   "execution_count": null,
   "metadata": {
    "tags": [
     "outputPrepend"
    ]
   },
   "outputs": [],
   "source": [
    "directors = []\n",
    "\n",
    "index = 0\n",
    "\n",
    "for item in output:\n",
    "    try:\n",
    "        directors.append(item['Director'])\n",
    "        index += 1\n",
    "    except KeyError:\n",
    "        directors.append(\"NA\")\n",
    "        index += 1 \n",
    "\n",
    "print(directors)"
   ]
  },
  {
   "cell_type": "code",
   "execution_count": null,
   "metadata": {
    "tags": [
     "outputPrepend"
    ]
   },
   "outputs": [],
   "source": [
    "actors = []\n",
    "\n",
    "index = 0\n",
    "\n",
    "for item in output:\n",
    "    try:\n",
    "        actors.append(item['Actors'])\n",
    "        index += 1\n",
    "    except KeyError:\n",
    "        actors.append(\"NA\")\n",
    "        index += 1\n",
    "\n",
    "print(actors)"
   ]
  },
  {
   "cell_type": "code",
   "execution_count": null,
   "metadata": {
    "tags": [
     "outputPrepend"
    ]
   },
   "outputs": [],
   "source": [
    "years = []\n",
    "\n",
    "index = 0\n",
    "\n",
    "for item in output:\n",
    "    try:\n",
    "        years.append(item['Year'])\n",
    "        index += 1\n",
    "    except KeyError:\n",
    "        years.append(\"NA\")\n",
    "        index += 1\n",
    "\n",
    "print(years)"
   ]
  },
  {
   "cell_type": "code",
   "execution_count": null,
   "metadata": {
    "tags": [
     "outputPrepend"
    ]
   },
   "outputs": [],
   "source": [
    "boxOffices = []\n",
    "\n",
    "index = 0\n",
    "\n",
    "for item in output:\n",
    "    try:\n",
    "        boxOffices.append(item['BoxOffice'])\n",
    "        index += 1\n",
    "    except KeyError:\n",
    "        boxOffices.append(\"NA\")\n",
    "        index += 1\n",
    "\n",
    "print(boxOffices)"
   ]
  },
  {
   "cell_type": "code",
   "execution_count": null,
   "metadata": {
    "tags": [
     "outputPrepend"
    ]
   },
   "outputs": [],
   "source": [
    "ratings = []\n",
    "\n",
    "index = 0\n",
    "\n",
    "for item in output:\n",
    "    try:\n",
    "        ratings.append(item['Rated'])\n",
    "        index += 1\n",
    "    except KeyError:\n",
    "        ratings.append(\"NA\")\n",
    "        index += 1\n",
    "\n",
    "print(ratings)"
   ]
  },
  {
   "cell_type": "code",
   "execution_count": null,
   "metadata": {
    "tags": [
     "outputPrepend"
    ]
   },
   "outputs": [],
   "source": [
    "imdbRatings = []\n",
    "\n",
    "index = 0\n",
    "\n",
    "for item in output:\n",
    "    try:\n",
    "        imdbRatings.append(item['imdbRating'])\n",
    "        index += 1\n",
    "    except KeyError:\n",
    "        imdbRatings.append(\"NA\")\n",
    "        index += 1\n",
    "\n",
    "print(imdbRatings)"
   ]
  },
  {
   "cell_type": "code",
   "execution_count": null,
   "metadata": {
    "tags": [
     "outputPrepend"
    ]
   },
   "outputs": [],
   "source": [
    "imdbVotes = []\n",
    "\n",
    "index = 0\n",
    "\n",
    "for item in output:\n",
    "    try:\n",
    "        imdbVotes.append(item['imdbVotes'])\n",
    "        index += 1\n",
    "    except KeyError:\n",
    "        imdbVotes.append(\"NA\")\n",
    "        index += 1\n",
    "\n",
    "print(imdbVotes)"
   ]
  },
  {
   "cell_type": "code",
   "execution_count": null,
   "metadata": {
    "tags": [
     "outputPrepend"
    ]
   },
   "outputs": [],
   "source": [
    "imdbIDs = []\n",
    "\n",
    "index = 0\n",
    "\n",
    "for item in output:\n",
    "    try:\n",
    "        imdbIDs.append(item['imdbID'])\n",
    "        index += 1\n",
    "    except KeyError:\n",
    "        imdbIDs.append(\"NA\")\n",
    "        index += 1\n",
    "\n",
    "print(imdbIDs)"
   ]
  },
  {
   "cell_type": "markdown",
   "metadata": {},
   "source": [
    "# Lists\n",
    "* imdbIDs\n",
    "* movie_titles\n",
    "* metascores\n",
    "* metascore_ints\n",
    "* directors\n",
    "* actors\n",
    "* years\n",
    "* boxOffices\n",
    "* ratings\n",
    "* imdbRatings\n",
    "* imdbVotes\n",
    "* imdbIDs"
   ]
  },
  {
   "cell_type": "code",
   "execution_count": null,
   "metadata": {},
   "outputs": [],
   "source": [
    "len(movie_titles)"
   ]
  },
  {
   "cell_type": "code",
   "execution_count": null,
   "metadata": {
    "scrolled": false
   },
   "outputs": [],
   "source": [
    "df = pd.DataFrame(\n",
    "    {'IMDB ID': imdbIDs,\n",
    "     'Title': movie_titles,\n",
    "     'Director': directors,\n",
    "     'Actor': actors,\n",
    "     'Year': years,\n",
    "     'Box Office': boxOffices,\n",
    "     'Rating': ratings,\n",
    "     'IMDB Rating': imdbRatings,\n",
    "     'IMDB Votes': imdbVotes,\n",
    "     'Metascore': metascores\n",
    "    })\n",
    "\n",
    "df"
   ]
  },
  {
   "cell_type": "code",
   "execution_count": null,
   "metadata": {},
   "outputs": [],
   "source": [
    "df['Actor'] = df['Actor'].str.rsplit(',').str[0]\n",
    "df['Director'] = df['Director'].str.rsplit(',').str[0]\n",
    "\n",
    "df"
   ]
  },
  {
   "cell_type": "code",
   "execution_count": null,
   "metadata": {},
   "outputs": [],
   "source": [
    "df.to_csv('Resources/Data/data.csv')"
   ]
  },
  {
   "cell_type": "code",
   "execution_count": null,
   "metadata": {},
   "outputs": [],
   "source": []
  }
 ],
 "metadata": {
  "kernelspec": {
   "display_name": "Python 3",
   "language": "python",
   "name": "python3"
  },
  "language_info": {
   "codemirror_mode": {
    "name": "ipython",
    "version": 3
   },
   "file_extension": ".py",
   "mimetype": "text/x-python",
   "name": "python",
   "nbconvert_exporter": "python",
   "pygments_lexer": "ipython3",
   "version": "3.7.4"
  }
 },
 "nbformat": 4,
 "nbformat_minor": 2
}
